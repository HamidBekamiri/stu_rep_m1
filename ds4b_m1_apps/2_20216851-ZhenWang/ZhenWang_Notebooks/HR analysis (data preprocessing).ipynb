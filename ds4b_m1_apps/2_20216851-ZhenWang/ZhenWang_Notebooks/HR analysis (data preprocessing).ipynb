{
  "nbformat": 4,
  "nbformat_minor": 0,
  "metadata": {
    "colab": {
      "provenance": [],
      "toc_visible": true,
      "collapsed_sections": []
    },
    "kernelspec": {
      "name": "python3",
      "display_name": "Python 3"
    },
    "language_info": {
      "name": "python"
    }
  },
  "cells": [
    {
      "cell_type": "markdown",
      "source": [
        "# 1.library input"
      ],
      "metadata": {
        "id": "PhdDnC8FtCMo"
      }
    },
    {
      "cell_type": "code",
      "source": [
        "import pandas as pd\n",
        "import numpy as np\n",
        "from matplotlib import pyplot as plt\n",
        "import altair as alt\n",
        "import seaborn as sns\n",
        "sns.set()\n",
        "from sklearn.impute import SimpleImputer\n",
        "from sklearn.model_selection import train_test_split"
      ],
      "metadata": {
        "id": "ZjAK8nX2tA4o"
      },
      "execution_count": null,
      "outputs": []
    },
    {
      "cell_type": "markdown",
      "source": [
        "# 2.data input"
      ],
      "metadata": {
        "id": "adQGGH8LtI3G"
      }
    },
    {
      "cell_type": "code",
      "source": [
        "e_sv=pd.read_csv(\"employee_survey_data.csv\")"
      ],
      "metadata": {
        "id": "9xQStP8utltP"
      },
      "execution_count": null,
      "outputs": []
    },
    {
      "cell_type": "code",
      "source": [
        "gd=pd.read_csv(\"general_data.csv\")"
      ],
      "metadata": {
        "id": "rbGTnjqztsX7"
      },
      "execution_count": null,
      "outputs": []
    },
    {
      "cell_type": "code",
      "source": [
        "m_sv=pd.read_csv(\"manager_survey_data.csv\")"
      ],
      "metadata": {
        "id": "SZ56DkgItvS2"
      },
      "execution_count": null,
      "outputs": []
    },
    {
      "cell_type": "markdown",
      "source": [
        "# 3.data proprocessing"
      ],
      "metadata": {
        "id": "En4OANQ0tznZ"
      }
    },
    {
      "cell_type": "markdown",
      "source": [
        "## 3.1 merge the dataset"
      ],
      "metadata": {
        "id": "G7g-O5dVuV1u"
      }
    },
    {
      "cell_type": "code",
      "source": [
        "#merge the three dataset by employee_id, and name it \"hr\"\n",
        "gd_e=gd.merge(e_sv,on='EmployeeID')\n",
        "hr=gd_e.merge(m_sv,on='EmployeeID')"
      ],
      "metadata": {
        "id": "ziHGR1fHtNsq"
      },
      "execution_count": null,
      "outputs": []
    },
    {
      "cell_type": "markdown",
      "source": [
        "## 3.2 revise the variable name"
      ],
      "metadata": {
        "id": "GDHrVYFjuZtR"
      }
    },
    {
      "cell_type": "code",
      "source": [
        "#chage the variable name to non-capital, easy one\n",
        "hr.rename({'Age':'age'},axis=1,inplace=True)\n",
        "hr.rename({'Attrition':'attrition'},axis=1,inplace=True)\n",
        "hr.rename({'BusinessTravel':'business_travel'},axis=1,inplace=True)\n",
        "hr.rename({'Department':'department'},axis=1,inplace=True)\n",
        "hr.rename({'DistanceFromHome':'dfh'},axis=1,inplace=True)\n",
        "hr.rename({'Education':'edu'},axis=1,inplace=True)\n",
        "hr.rename({'EducationField':'edu_field'},axis=1,inplace=True)\n",
        "hr.rename({'EmployeeCount':'employee_count'},axis=1,inplace=True)\n",
        "hr.rename({'EmployeeID':'employee_id'},axis=1,inplace=True)\n",
        "hr.rename({'Gender':'gender'},axis=1,inplace=True)\n",
        "hr.rename({'JobLevel':'job_level'},axis=1,inplace=True)\n",
        "hr.rename({'JobRole':'job_role'},axis=1,inplace=True)\n",
        "hr.rename({'MaritalStatus':'marital'},axis=1,inplace=True)\n",
        "hr.rename({'MonthlyIncome':'income'},axis=1,inplace=True)\n",
        "hr.rename({'NumCompaniesWorked':'num_companiesworked'},axis=1,inplace=True)\n",
        "hr.rename({'Over18':'over18'},axis=1,inplace=True)\n",
        "hr.rename({'PercentSalaryHike':'salary_increase'},axis=1,inplace=True)\n",
        "hr.rename({'PerformanceRating':'performance'},axis=1,inplace=True)\n",
        "hr.rename({'EnvironmentSatisfaction':'satisfaction_environment'},axis=1,inplace=True)\n",
        "hr.rename({'StandardHours':'standard_hours'},axis=1,inplace=True)\n",
        "hr.rename({'StockOptionLevel':'stock_option'},axis=1,inplace=True)\n",
        "hr.rename({'TotalWorkingYears':'years_working'},axis=1,inplace=True)\n",
        "hr.rename({'TrainingTimesLastYear':'training'},axis=1,inplace=True)\n",
        "hr.rename({'WorkLifeBalance':'wlb'},axis=1,inplace=True)\n",
        "hr.rename({'YearsAtCompany':'years_company'},axis=1,inplace=True)\n",
        "hr.rename({'YearsSinceLastPromotion':'years_promotion'},axis=1,inplace=True)\n",
        "hr.rename({'YearsWithCurrManager':'years_manager'},axis=1,inplace=True)\n",
        "hr.rename({'JobInvolvement':'job_involvement'},axis=1,inplace=True)\n",
        "hr.rename({'JobSatisfaction':'satisfaction_job'},axis=1,inplace=True)"
      ],
      "metadata": {
        "id": "o5DBdwgWt65V"
      },
      "execution_count": null,
      "outputs": []
    },
    {
      "cell_type": "markdown",
      "source": [
        "##3.3 encode attrition as dummy variable"
      ],
      "metadata": {
        "id": "TNlNZ-9t1bBb"
      }
    },
    {
      "cell_type": "code",
      "source": [
        "hr[\"attrition_d\"]=pd.get_dummies(hr[\"attrition\"],drop_first=True)"
      ],
      "metadata": {
        "id": "iy8qZpc71O1K"
      },
      "execution_count": null,
      "outputs": []
    },
    {
      "cell_type": "markdown",
      "source": [
        "## 3.4 deal with the missing value"
      ],
      "metadata": {
        "id": "uxogVRV9ugI5"
      }
    },
    {
      "cell_type": "code",
      "source": [
        "#detect the missing value\n",
        "print(hr.isna().sum().sort_values())"
      ],
      "metadata": {
        "colab": {
          "base_uri": "https://localhost:8080/"
        },
        "id": "0JrlXXNvxaw9",
        "outputId": "4844c3cd-6c32-4f61-9a73-8d8698623179"
      },
      "execution_count": null,
      "outputs": [
        {
          "output_type": "stream",
          "name": "stdout",
          "text": [
            "age                          0\n",
            "job_involvement              0\n",
            "years_manager                0\n",
            "years_promotion              0\n",
            "years_company                0\n",
            "training                     0\n",
            "stock_option                 0\n",
            "standard_hours               0\n",
            "salary_increase              0\n",
            "over18                       0\n",
            "performance                  0\n",
            "income                       0\n",
            "attrition_d                  0\n",
            "job_role                     0\n",
            "attrition                    0\n",
            "business_travel              0\n",
            "department                   0\n",
            "marital                      0\n",
            "edu                          0\n",
            "dfh                          0\n",
            "edu_field                    0\n",
            "employee_count               0\n",
            "employee_id                  0\n",
            "gender                       0\n",
            "job_level                    0\n",
            "years_working                9\n",
            "num_companiesworked         19\n",
            "satisfaction_job            20\n",
            "satisfaction_environment    25\n",
            "wlb                         38\n",
            "dtype: int64\n"
          ]
        }
      ]
    },
    {
      "cell_type": "code",
      "source": [
        "#check the type of the missing value variable\n",
        "hr.info()"
      ],
      "metadata": {
        "colab": {
          "base_uri": "https://localhost:8080/"
        },
        "id": "XiSloL1yvPhi",
        "outputId": "8a08a017-0880-4647-e86f-b15b6b730776"
      },
      "execution_count": null,
      "outputs": [
        {
          "output_type": "stream",
          "name": "stdout",
          "text": [
            "<class 'pandas.core.frame.DataFrame'>\n",
            "Int64Index: 4410 entries, 0 to 4409\n",
            "Data columns (total 30 columns):\n",
            " #   Column                    Non-Null Count  Dtype  \n",
            "---  ------                    --------------  -----  \n",
            " 0   age                       4410 non-null   int64  \n",
            " 1   attrition                 4410 non-null   object \n",
            " 2   business_travel           4410 non-null   object \n",
            " 3   department                4410 non-null   object \n",
            " 4   dfh                       4410 non-null   int64  \n",
            " 5   edu                       4410 non-null   int64  \n",
            " 6   edu_field                 4410 non-null   object \n",
            " 7   employee_count            4410 non-null   int64  \n",
            " 8   employee_id               4410 non-null   int64  \n",
            " 9   gender                    4410 non-null   object \n",
            " 10  job_level                 4410 non-null   int64  \n",
            " 11  job_role                  4410 non-null   object \n",
            " 12  marital                   4410 non-null   object \n",
            " 13  income                    4410 non-null   int64  \n",
            " 14  num_companiesworked       4391 non-null   float64\n",
            " 15  over18                    4410 non-null   object \n",
            " 16  salary_increase           4410 non-null   int64  \n",
            " 17  standard_hours            4410 non-null   int64  \n",
            " 18  stock_option              4410 non-null   int64  \n",
            " 19  years_working             4401 non-null   float64\n",
            " 20  training                  4410 non-null   int64  \n",
            " 21  years_company             4410 non-null   int64  \n",
            " 22  years_promotion           4410 non-null   int64  \n",
            " 23  years_manager             4410 non-null   int64  \n",
            " 24  satisfaction_environment  4385 non-null   float64\n",
            " 25  satisfaction_job          4390 non-null   float64\n",
            " 26  wlb                       4372 non-null   float64\n",
            " 27  job_involvement           4410 non-null   int64  \n",
            " 28  performance               4410 non-null   int64  \n",
            " 29  attrition_d               4410 non-null   uint8  \n",
            "dtypes: float64(5), int64(16), object(8), uint8(1)\n",
            "memory usage: 1.0+ MB\n"
          ]
        }
      ]
    },
    {
      "cell_type": "code",
      "source": [
        "hr=hr.dropna()\n",
        "#for all five variables with missing values are float, we can also use sklearn to impute value by mean, but due to we will use individual data later, so here use 'dropna' instead of 'imputing'\n",
        "#X_num=hr.loc[:,[\"years_working\",\"num_companiesworked\",\"satisfaction_job\",\"satisfaction_environment\",\"wlb\"]].values\n",
        "#y=hr[\"attrition\"].values\n",
        "#X_train_num,X_test_num,y_train,y_test=train_test_split(X_num,y,test_size=0.2,random_state=24)\n",
        "#imp_num=SimpleImputer()\n",
        "#X_train_num=imp_num.fit_transform(X_train_num)\n",
        "#X_test_num=imp_num.transform(X_test_num)"
      ],
      "metadata": {
        "id": "y7CDz9MQBpJv"
      },
      "execution_count": null,
      "outputs": []
    },
    {
      "cell_type": "code",
      "source": [
        "print(hr.isna().sum().sort_values())"
      ],
      "metadata": {
        "colab": {
          "base_uri": "https://localhost:8080/"
        },
        "id": "3tOfFnoEA97B",
        "outputId": "a51d7ed9-1a71-4cb6-dbb7-6cb471ebcd3e"
      },
      "execution_count": null,
      "outputs": [
        {
          "output_type": "stream",
          "name": "stdout",
          "text": [
            "age                         0\n",
            "job_involvement             0\n",
            "wlb                         0\n",
            "satisfaction_job            0\n",
            "satisfaction_environment    0\n",
            "years_manager               0\n",
            "years_promotion             0\n",
            "years_company               0\n",
            "training                    0\n",
            "years_working               0\n",
            "stock_option                0\n",
            "standard_hours              0\n",
            "salary_increase             0\n",
            "over18                      0\n",
            "num_companiesworked         0\n",
            "income                      0\n",
            "marital                     0\n",
            "job_role                    0\n",
            "job_level                   0\n",
            "gender                      0\n",
            "employee_id                 0\n",
            "employee_count              0\n",
            "edu_field                   0\n",
            "edu                         0\n",
            "dfh                         0\n",
            "department                  0\n",
            "business_travel             0\n",
            "attrition                   0\n",
            "performance                 0\n",
            "attrition_d                 0\n",
            "dtype: int64\n"
          ]
        }
      ]
    },
    {
      "cell_type": "markdown",
      "source": [
        "##3.5 drop constant"
      ],
      "metadata": {
        "id": "v8K48zbl5qqj"
      }
    },
    {
      "cell_type": "code",
      "source": [
        "hr.nunique()"
      ],
      "metadata": {
        "colab": {
          "base_uri": "https://localhost:8080/"
        },
        "id": "tykK3mhX5p3Y",
        "outputId": "f5d04748-95b2-47a2-a67f-14273a89a3a3"
      },
      "execution_count": null,
      "outputs": [
        {
          "output_type": "execute_result",
          "data": {
            "text/plain": [
              "age                           43\n",
              "attrition                      2\n",
              "business_travel                3\n",
              "department                     3\n",
              "dfh                           29\n",
              "edu                            5\n",
              "edu_field                      6\n",
              "employee_count                 1\n",
              "employee_id                 4300\n",
              "gender                         2\n",
              "job_level                      5\n",
              "job_role                       9\n",
              "marital                        3\n",
              "income                      1349\n",
              "num_companiesworked           10\n",
              "over18                         1\n",
              "salary_increase               15\n",
              "standard_hours                 1\n",
              "stock_option                   4\n",
              "years_working                 40\n",
              "training                       7\n",
              "years_company                 37\n",
              "years_promotion               16\n",
              "years_manager                 18\n",
              "satisfaction_environment       4\n",
              "satisfaction_job               4\n",
              "wlb                            4\n",
              "job_involvement                4\n",
              "performance                    2\n",
              "attrition_d                    2\n",
              "dtype: int64"
            ]
          },
          "metadata": {},
          "execution_count": 244
        }
      ]
    },
    {
      "cell_type": "code",
      "source": [
        "#\"employee_count\",\"over18\",and \"standard_hours\" are not variables, so drop the contants\n",
        "hr=hr.drop([\"employee_count\",\"over18\",\"standard_hours\"],axis=1)"
      ],
      "metadata": {
        "id": "N5G5vy4S6QnE"
      },
      "execution_count": null,
      "outputs": []
    },
    {
      "cell_type": "markdown",
      "source": [
        "# 4.prepare the dataframe"
      ],
      "metadata": {
        "id": "mWlyOhMIwjb4"
      }
    },
    {
      "cell_type": "code",
      "source": [
        "order=['employee_id','age','dfh','edu','job_level','income','stock_option','salary_increase','training','years_company','years_promotion','years_manager','num_companiesworked','years_working','performance','job_involvement','satisfaction_environment','satisfaction_job','wlb',\"attrition_d\",'business_travel','department','edu_field','gender','job_role','marital']"
      ],
      "metadata": {
        "id": "94o0IwZNAJVS"
      },
      "execution_count": null,
      "outputs": []
    },
    {
      "cell_type": "code",
      "source": [
        "hr=hr[order]"
      ],
      "metadata": {
        "id": "B_uYYll7AKiZ"
      },
      "execution_count": null,
      "outputs": []
    },
    {
      "cell_type": "code",
      "source": [
        "hr"
      ],
      "metadata": {
        "colab": {
          "base_uri": "https://localhost:8080/",
          "height": 661
        },
        "id": "PY7fODwhANGN",
        "outputId": "0b9e1a38-cf3e-48ea-b503-24e58dfd8e96"
      },
      "execution_count": null,
      "outputs": [
        {
          "output_type": "execute_result",
          "data": {
            "text/plain": [
              "      employee_id  age  dfh  edu  job_level  income  stock_option  \\\n",
              "0               1   51    6    2          1  131160             0   \n",
              "1               2   31   10    1          1   41890             1   \n",
              "2               3   32   17    4          4  193280             3   \n",
              "3               4   38    2    5          3   83210             3   \n",
              "4               5   32   10    1          1   23420             2   \n",
              "...           ...  ...  ...  ...        ...     ...           ...   \n",
              "4404         4405   29    4    3          2   35390             0   \n",
              "4405         4406   42    5    4          1   60290             1   \n",
              "4406         4407   29    2    4          1   26790             0   \n",
              "4407         4408   25   25    2          2   37020             0   \n",
              "4408         4409   42   18    2          1   23980             1   \n",
              "\n",
              "      salary_increase  training  years_company  ...  satisfaction_environment  \\\n",
              "0                  11         6              1  ...                       3.0   \n",
              "1                  23         3              5  ...                       3.0   \n",
              "2                  15         2              5  ...                       2.0   \n",
              "3                  11         5              8  ...                       4.0   \n",
              "4                  12         2              6  ...                       4.0   \n",
              "...               ...       ...            ...  ...                       ...   \n",
              "4404               18         2              6  ...                       3.0   \n",
              "4405               17         5              3  ...                       4.0   \n",
              "4406               15         2              3  ...                       4.0   \n",
              "4407               20         4              4  ...                       1.0   \n",
              "4408               14         2              9  ...                       4.0   \n",
              "\n",
              "      satisfaction_job  wlb  attrition_d    business_travel  \\\n",
              "0                  4.0  2.0            0      Travel_Rarely   \n",
              "1                  2.0  4.0            1  Travel_Frequently   \n",
              "2                  2.0  1.0            0  Travel_Frequently   \n",
              "3                  4.0  3.0            0         Non-Travel   \n",
              "4                  1.0  3.0            0      Travel_Rarely   \n",
              "...                ...  ...          ...                ...   \n",
              "4404               4.0  3.0            0      Travel_Rarely   \n",
              "4405               1.0  3.0            0      Travel_Rarely   \n",
              "4406               4.0  3.0            0      Travel_Rarely   \n",
              "4407               3.0  3.0            0      Travel_Rarely   \n",
              "4408               1.0  3.0            0      Travel_Rarely   \n",
              "\n",
              "                  department      edu_field  gender  \\\n",
              "0                      Sales  Life Sciences  Female   \n",
              "1     Research & Development  Life Sciences  Female   \n",
              "2     Research & Development          Other    Male   \n",
              "3     Research & Development  Life Sciences    Male   \n",
              "4     Research & Development        Medical    Male   \n",
              "...                      ...            ...     ...   \n",
              "4404                   Sales          Other  Female   \n",
              "4405  Research & Development        Medical  Female   \n",
              "4406  Research & Development        Medical    Male   \n",
              "4407  Research & Development  Life Sciences    Male   \n",
              "4408                   Sales        Medical    Male   \n",
              "\n",
              "                       job_role   marital  \n",
              "0     Healthcare Representative   Married  \n",
              "1            Research Scientist    Single  \n",
              "2               Sales Executive   Married  \n",
              "3               Human Resources   Married  \n",
              "4               Sales Executive    Single  \n",
              "...                         ...       ...  \n",
              "4404            Human Resources    Single  \n",
              "4405         Research Scientist    Single  \n",
              "4406      Laboratory Technician  Divorced  \n",
              "4407            Sales Executive   Married  \n",
              "4408      Laboratory Technician  Divorced  \n",
              "\n",
              "[4300 rows x 26 columns]"
            ],
            "text/html": [
              "\n",
              "  <div id=\"df-144c0be9-822f-4ca7-8704-52c9be0a7a76\">\n",
              "    <div class=\"colab-df-container\">\n",
              "      <div>\n",
              "<style scoped>\n",
              "    .dataframe tbody tr th:only-of-type {\n",
              "        vertical-align: middle;\n",
              "    }\n",
              "\n",
              "    .dataframe tbody tr th {\n",
              "        vertical-align: top;\n",
              "    }\n",
              "\n",
              "    .dataframe thead th {\n",
              "        text-align: right;\n",
              "    }\n",
              "</style>\n",
              "<table border=\"1\" class=\"dataframe\">\n",
              "  <thead>\n",
              "    <tr style=\"text-align: right;\">\n",
              "      <th></th>\n",
              "      <th>employee_id</th>\n",
              "      <th>age</th>\n",
              "      <th>dfh</th>\n",
              "      <th>edu</th>\n",
              "      <th>job_level</th>\n",
              "      <th>income</th>\n",
              "      <th>stock_option</th>\n",
              "      <th>salary_increase</th>\n",
              "      <th>training</th>\n",
              "      <th>years_company</th>\n",
              "      <th>...</th>\n",
              "      <th>satisfaction_environment</th>\n",
              "      <th>satisfaction_job</th>\n",
              "      <th>wlb</th>\n",
              "      <th>attrition_d</th>\n",
              "      <th>business_travel</th>\n",
              "      <th>department</th>\n",
              "      <th>edu_field</th>\n",
              "      <th>gender</th>\n",
              "      <th>job_role</th>\n",
              "      <th>marital</th>\n",
              "    </tr>\n",
              "  </thead>\n",
              "  <tbody>\n",
              "    <tr>\n",
              "      <th>0</th>\n",
              "      <td>1</td>\n",
              "      <td>51</td>\n",
              "      <td>6</td>\n",
              "      <td>2</td>\n",
              "      <td>1</td>\n",
              "      <td>131160</td>\n",
              "      <td>0</td>\n",
              "      <td>11</td>\n",
              "      <td>6</td>\n",
              "      <td>1</td>\n",
              "      <td>...</td>\n",
              "      <td>3.0</td>\n",
              "      <td>4.0</td>\n",
              "      <td>2.0</td>\n",
              "      <td>0</td>\n",
              "      <td>Travel_Rarely</td>\n",
              "      <td>Sales</td>\n",
              "      <td>Life Sciences</td>\n",
              "      <td>Female</td>\n",
              "      <td>Healthcare Representative</td>\n",
              "      <td>Married</td>\n",
              "    </tr>\n",
              "    <tr>\n",
              "      <th>1</th>\n",
              "      <td>2</td>\n",
              "      <td>31</td>\n",
              "      <td>10</td>\n",
              "      <td>1</td>\n",
              "      <td>1</td>\n",
              "      <td>41890</td>\n",
              "      <td>1</td>\n",
              "      <td>23</td>\n",
              "      <td>3</td>\n",
              "      <td>5</td>\n",
              "      <td>...</td>\n",
              "      <td>3.0</td>\n",
              "      <td>2.0</td>\n",
              "      <td>4.0</td>\n",
              "      <td>1</td>\n",
              "      <td>Travel_Frequently</td>\n",
              "      <td>Research &amp; Development</td>\n",
              "      <td>Life Sciences</td>\n",
              "      <td>Female</td>\n",
              "      <td>Research Scientist</td>\n",
              "      <td>Single</td>\n",
              "    </tr>\n",
              "    <tr>\n",
              "      <th>2</th>\n",
              "      <td>3</td>\n",
              "      <td>32</td>\n",
              "      <td>17</td>\n",
              "      <td>4</td>\n",
              "      <td>4</td>\n",
              "      <td>193280</td>\n",
              "      <td>3</td>\n",
              "      <td>15</td>\n",
              "      <td>2</td>\n",
              "      <td>5</td>\n",
              "      <td>...</td>\n",
              "      <td>2.0</td>\n",
              "      <td>2.0</td>\n",
              "      <td>1.0</td>\n",
              "      <td>0</td>\n",
              "      <td>Travel_Frequently</td>\n",
              "      <td>Research &amp; Development</td>\n",
              "      <td>Other</td>\n",
              "      <td>Male</td>\n",
              "      <td>Sales Executive</td>\n",
              "      <td>Married</td>\n",
              "    </tr>\n",
              "    <tr>\n",
              "      <th>3</th>\n",
              "      <td>4</td>\n",
              "      <td>38</td>\n",
              "      <td>2</td>\n",
              "      <td>5</td>\n",
              "      <td>3</td>\n",
              "      <td>83210</td>\n",
              "      <td>3</td>\n",
              "      <td>11</td>\n",
              "      <td>5</td>\n",
              "      <td>8</td>\n",
              "      <td>...</td>\n",
              "      <td>4.0</td>\n",
              "      <td>4.0</td>\n",
              "      <td>3.0</td>\n",
              "      <td>0</td>\n",
              "      <td>Non-Travel</td>\n",
              "      <td>Research &amp; Development</td>\n",
              "      <td>Life Sciences</td>\n",
              "      <td>Male</td>\n",
              "      <td>Human Resources</td>\n",
              "      <td>Married</td>\n",
              "    </tr>\n",
              "    <tr>\n",
              "      <th>4</th>\n",
              "      <td>5</td>\n",
              "      <td>32</td>\n",
              "      <td>10</td>\n",
              "      <td>1</td>\n",
              "      <td>1</td>\n",
              "      <td>23420</td>\n",
              "      <td>2</td>\n",
              "      <td>12</td>\n",
              "      <td>2</td>\n",
              "      <td>6</td>\n",
              "      <td>...</td>\n",
              "      <td>4.0</td>\n",
              "      <td>1.0</td>\n",
              "      <td>3.0</td>\n",
              "      <td>0</td>\n",
              "      <td>Travel_Rarely</td>\n",
              "      <td>Research &amp; Development</td>\n",
              "      <td>Medical</td>\n",
              "      <td>Male</td>\n",
              "      <td>Sales Executive</td>\n",
              "      <td>Single</td>\n",
              "    </tr>\n",
              "    <tr>\n",
              "      <th>...</th>\n",
              "      <td>...</td>\n",
              "      <td>...</td>\n",
              "      <td>...</td>\n",
              "      <td>...</td>\n",
              "      <td>...</td>\n",
              "      <td>...</td>\n",
              "      <td>...</td>\n",
              "      <td>...</td>\n",
              "      <td>...</td>\n",
              "      <td>...</td>\n",
              "      <td>...</td>\n",
              "      <td>...</td>\n",
              "      <td>...</td>\n",
              "      <td>...</td>\n",
              "      <td>...</td>\n",
              "      <td>...</td>\n",
              "      <td>...</td>\n",
              "      <td>...</td>\n",
              "      <td>...</td>\n",
              "      <td>...</td>\n",
              "      <td>...</td>\n",
              "    </tr>\n",
              "    <tr>\n",
              "      <th>4404</th>\n",
              "      <td>4405</td>\n",
              "      <td>29</td>\n",
              "      <td>4</td>\n",
              "      <td>3</td>\n",
              "      <td>2</td>\n",
              "      <td>35390</td>\n",
              "      <td>0</td>\n",
              "      <td>18</td>\n",
              "      <td>2</td>\n",
              "      <td>6</td>\n",
              "      <td>...</td>\n",
              "      <td>3.0</td>\n",
              "      <td>4.0</td>\n",
              "      <td>3.0</td>\n",
              "      <td>0</td>\n",
              "      <td>Travel_Rarely</td>\n",
              "      <td>Sales</td>\n",
              "      <td>Other</td>\n",
              "      <td>Female</td>\n",
              "      <td>Human Resources</td>\n",
              "      <td>Single</td>\n",
              "    </tr>\n",
              "    <tr>\n",
              "      <th>4405</th>\n",
              "      <td>4406</td>\n",
              "      <td>42</td>\n",
              "      <td>5</td>\n",
              "      <td>4</td>\n",
              "      <td>1</td>\n",
              "      <td>60290</td>\n",
              "      <td>1</td>\n",
              "      <td>17</td>\n",
              "      <td>5</td>\n",
              "      <td>3</td>\n",
              "      <td>...</td>\n",
              "      <td>4.0</td>\n",
              "      <td>1.0</td>\n",
              "      <td>3.0</td>\n",
              "      <td>0</td>\n",
              "      <td>Travel_Rarely</td>\n",
              "      <td>Research &amp; Development</td>\n",
              "      <td>Medical</td>\n",
              "      <td>Female</td>\n",
              "      <td>Research Scientist</td>\n",
              "      <td>Single</td>\n",
              "    </tr>\n",
              "    <tr>\n",
              "      <th>4406</th>\n",
              "      <td>4407</td>\n",
              "      <td>29</td>\n",
              "      <td>2</td>\n",
              "      <td>4</td>\n",
              "      <td>1</td>\n",
              "      <td>26790</td>\n",
              "      <td>0</td>\n",
              "      <td>15</td>\n",
              "      <td>2</td>\n",
              "      <td>3</td>\n",
              "      <td>...</td>\n",
              "      <td>4.0</td>\n",
              "      <td>4.0</td>\n",
              "      <td>3.0</td>\n",
              "      <td>0</td>\n",
              "      <td>Travel_Rarely</td>\n",
              "      <td>Research &amp; Development</td>\n",
              "      <td>Medical</td>\n",
              "      <td>Male</td>\n",
              "      <td>Laboratory Technician</td>\n",
              "      <td>Divorced</td>\n",
              "    </tr>\n",
              "    <tr>\n",
              "      <th>4407</th>\n",
              "      <td>4408</td>\n",
              "      <td>25</td>\n",
              "      <td>25</td>\n",
              "      <td>2</td>\n",
              "      <td>2</td>\n",
              "      <td>37020</td>\n",
              "      <td>0</td>\n",
              "      <td>20</td>\n",
              "      <td>4</td>\n",
              "      <td>4</td>\n",
              "      <td>...</td>\n",
              "      <td>1.0</td>\n",
              "      <td>3.0</td>\n",
              "      <td>3.0</td>\n",
              "      <td>0</td>\n",
              "      <td>Travel_Rarely</td>\n",
              "      <td>Research &amp; Development</td>\n",
              "      <td>Life Sciences</td>\n",
              "      <td>Male</td>\n",
              "      <td>Sales Executive</td>\n",
              "      <td>Married</td>\n",
              "    </tr>\n",
              "    <tr>\n",
              "      <th>4408</th>\n",
              "      <td>4409</td>\n",
              "      <td>42</td>\n",
              "      <td>18</td>\n",
              "      <td>2</td>\n",
              "      <td>1</td>\n",
              "      <td>23980</td>\n",
              "      <td>1</td>\n",
              "      <td>14</td>\n",
              "      <td>2</td>\n",
              "      <td>9</td>\n",
              "      <td>...</td>\n",
              "      <td>4.0</td>\n",
              "      <td>1.0</td>\n",
              "      <td>3.0</td>\n",
              "      <td>0</td>\n",
              "      <td>Travel_Rarely</td>\n",
              "      <td>Sales</td>\n",
              "      <td>Medical</td>\n",
              "      <td>Male</td>\n",
              "      <td>Laboratory Technician</td>\n",
              "      <td>Divorced</td>\n",
              "    </tr>\n",
              "  </tbody>\n",
              "</table>\n",
              "<p>4300 rows × 26 columns</p>\n",
              "</div>\n",
              "      <button class=\"colab-df-convert\" onclick=\"convertToInteractive('df-144c0be9-822f-4ca7-8704-52c9be0a7a76')\"\n",
              "              title=\"Convert this dataframe to an interactive table.\"\n",
              "              style=\"display:none;\">\n",
              "        \n",
              "  <svg xmlns=\"http://www.w3.org/2000/svg\" height=\"24px\"viewBox=\"0 0 24 24\"\n",
              "       width=\"24px\">\n",
              "    <path d=\"M0 0h24v24H0V0z\" fill=\"none\"/>\n",
              "    <path d=\"M18.56 5.44l.94 2.06.94-2.06 2.06-.94-2.06-.94-.94-2.06-.94 2.06-2.06.94zm-11 1L8.5 8.5l.94-2.06 2.06-.94-2.06-.94L8.5 2.5l-.94 2.06-2.06.94zm10 10l.94 2.06.94-2.06 2.06-.94-2.06-.94-.94-2.06-.94 2.06-2.06.94z\"/><path d=\"M17.41 7.96l-1.37-1.37c-.4-.4-.92-.59-1.43-.59-.52 0-1.04.2-1.43.59L10.3 9.45l-7.72 7.72c-.78.78-.78 2.05 0 2.83L4 21.41c.39.39.9.59 1.41.59.51 0 1.02-.2 1.41-.59l7.78-7.78 2.81-2.81c.8-.78.8-2.07 0-2.86zM5.41 20L4 18.59l7.72-7.72 1.47 1.35L5.41 20z\"/>\n",
              "  </svg>\n",
              "      </button>\n",
              "      \n",
              "  <style>\n",
              "    .colab-df-container {\n",
              "      display:flex;\n",
              "      flex-wrap:wrap;\n",
              "      gap: 12px;\n",
              "    }\n",
              "\n",
              "    .colab-df-convert {\n",
              "      background-color: #E8F0FE;\n",
              "      border: none;\n",
              "      border-radius: 50%;\n",
              "      cursor: pointer;\n",
              "      display: none;\n",
              "      fill: #1967D2;\n",
              "      height: 32px;\n",
              "      padding: 0 0 0 0;\n",
              "      width: 32px;\n",
              "    }\n",
              "\n",
              "    .colab-df-convert:hover {\n",
              "      background-color: #E2EBFA;\n",
              "      box-shadow: 0px 1px 2px rgba(60, 64, 67, 0.3), 0px 1px 3px 1px rgba(60, 64, 67, 0.15);\n",
              "      fill: #174EA6;\n",
              "    }\n",
              "\n",
              "    [theme=dark] .colab-df-convert {\n",
              "      background-color: #3B4455;\n",
              "      fill: #D2E3FC;\n",
              "    }\n",
              "\n",
              "    [theme=dark] .colab-df-convert:hover {\n",
              "      background-color: #434B5C;\n",
              "      box-shadow: 0px 1px 3px 1px rgba(0, 0, 0, 0.15);\n",
              "      filter: drop-shadow(0px 1px 2px rgba(0, 0, 0, 0.3));\n",
              "      fill: #FFFFFF;\n",
              "    }\n",
              "  </style>\n",
              "\n",
              "      <script>\n",
              "        const buttonEl =\n",
              "          document.querySelector('#df-144c0be9-822f-4ca7-8704-52c9be0a7a76 button.colab-df-convert');\n",
              "        buttonEl.style.display =\n",
              "          google.colab.kernel.accessAllowed ? 'block' : 'none';\n",
              "\n",
              "        async function convertToInteractive(key) {\n",
              "          const element = document.querySelector('#df-144c0be9-822f-4ca7-8704-52c9be0a7a76');\n",
              "          const dataTable =\n",
              "            await google.colab.kernel.invokeFunction('convertToInteractive',\n",
              "                                                     [key], {});\n",
              "          if (!dataTable) return;\n",
              "\n",
              "          const docLinkHtml = 'Like what you see? Visit the ' +\n",
              "            '<a target=\"_blank\" href=https://colab.research.google.com/notebooks/data_table.ipynb>data table notebook</a>'\n",
              "            + ' to learn more about interactive tables.';\n",
              "          element.innerHTML = '';\n",
              "          dataTable['output_type'] = 'display_data';\n",
              "          await google.colab.output.renderOutput(dataTable, element);\n",
              "          const docLink = document.createElement('div');\n",
              "          docLink.innerHTML = docLinkHtml;\n",
              "          element.appendChild(docLink);\n",
              "        }\n",
              "      </script>\n",
              "    </div>\n",
              "  </div>\n",
              "  "
            ]
          },
          "metadata": {},
          "execution_count": 248
        }
      ]
    },
    {
      "cell_type": "code",
      "source": [
        "outputpath='/content/hru.csv'\n",
        "hr.to_csv(outputpath,sep=',',index=False,header=True)"
      ],
      "metadata": {
        "id": "HHrGsH2yAcr1"
      },
      "execution_count": null,
      "outputs": []
    }
  ]
}